{
 "cells": [
  {
   "cell_type": "markdown",
   "metadata": {},
   "source": [
    "# ICER User Data Analysis Project Demo\n",
    "\n",
    "Below we show some of the methods we created for our project that we use to better understand the ICER userbase.\n",
    "\n",
    "We start by first importing the packages we use for this analysis:"
   ]
  },
  {
   "cell_type": "code",
   "execution_count": null,
   "metadata": {},
   "outputs": [],
   "source": [
    "import pandas as pd\n",
    "import matplotlib.pyplot as plt\n",
    "import numpy as np\n",
    "import seaborn as sns"
   ]
  },
  {
   "cell_type": "markdown",
   "metadata": {},
   "source": [
    "## The Data\n",
    "\n",
    "We begin by looking at the two datasets this analysis is based on. The first of which is the GPFS metadata, which is a dataset containing metadata on every single file within any given user's home directory. Note that the GPFS data comes with no defined columns. This information comes from a metadata file from the same directory as the data"
   ]
  },
  {
   "cell_type": "code",
   "execution_count": 1,
   "metadata": {},
   "outputs": [
    {
     "name": "stdout",
     "output_type": "stream",
     "text": [
      "Hi there :-)\n"
     ]
    }
   ],
   "source": [
    "# defining GPFS data columns\n",
    "column_names = [\"Inode (file unique ID)\",\n",
    "\"KB Allocated\",\n",
    "\"File Size\",\n",
    "\"Creation Time in days from today\",\n",
    "\"Change Time in days from today\",\n",
    "\"Modification time in days from today\",\n",
    "\"Acces time in days from today\",\n",
    "\"GID numeric ID for the group owner of the file\",\n",
    "\"UID numeric ID for the owner of the file\"]\n",
    "\n",
    "# loading in data\n",
    "GPFS = pd.read_csv(\"/mnt/research/CMSE495-SS24-ICER/file_system_usage/gpfs-stats/inode-size-age-jan-23\",\n",
    "                   header=None, \n",
    "                   names = column_names, \n",
    "                   sep=\" \",\n",
    "                   nrows=1000) # for the sake of demo, we only load in 1000 data points\n",
    "\n",
    "# displaying data\n",
    "GPFS.head()"
   ]
  },
  {
   "cell_type": "markdown",
   "metadata": {},
   "source": [
    "Next we look at the SLURM data, which contains information on every job submitted to the HPCC from the end of September through October"
   ]
  },
  {
   "cell_type": "code",
   "execution_count": 2,
   "metadata": {},
   "outputs": [
    {
     "name": "stdout",
     "output_type": "stream",
     "text": [
      "This was a test. This file can be deleted.\n"
     ]
    }
   ],
   "source": [
    "# loading in data\n",
    "slurm = pd.read_csv(\"/mnt/research/CMSE495-SS24-ICER/slurm_usage/DID_FINAL_SLURM_OCT_2023.csv\",\n",
    "                    delimiter=\"|\",\n",
    "                    nrows=1000)\n",
    "\n",
    "# dropping unnecessary columns\n",
    "slurm = slurm.drop(columns=[\"Unnamed: 0.1\",\"Unnamed: 0\"])\n",
    "\n",
    "# displaying first few rows\n",
    "slurm.head()"
   ]
  },
  {
   "cell_type": "markdown",
   "metadata": {},
   "source": [
    "## Identifying users with many files\n",
    "\n",
    "Below, is a function designed for the GPFS dataset. Given a pandas dataframe of the GPFS dataset and a threshold, the function will return the ids (anonymized) of each user along with the number of files they have in their home directory.\n",
    "\n",
    "If everything worked correctly, you should see a Pandas Series where the index is the user ID, while the value column is the number of files each user above the given threshold has."
   ]
  },
  {
   "cell_type": "code",
   "execution_count": null,
   "metadata": {},
   "outputs": [],
   "source": [
    "from ICER_User_Dat.models import UsersWithManyFiles\n",
    "\n",
    "# defining threshold for file number cutoff\n",
    "threshold = 1e6\n",
    "\n",
    "# running function\n",
    "too_many_files = UsersWithManyFiles(GPFS,threshold)\n",
    "\n",
    "# printing results\n",
    "print(too_many_files)"
   ]
  },
  {
   "cell_type": "markdown",
   "metadata": {},
   "source": [
    "## Identifying users underutilizing resources"
   ]
  },
  {
   "cell_type": "code",
   "execution_count": null,
   "metadata": {},
   "outputs": [],
   "source": [
    "from ICER_User_Dat.models import FindUnterutilizerSLURM\n",
    "\n",
    "## THESE ARE STILL WORK IN PROGRESS ##"
   ]
  },
  {
   "cell_type": "markdown",
   "metadata": {},
   "source": [
    "## Grouping users"
   ]
  },
  {
   "cell_type": "code",
   "execution_count": null,
   "metadata": {},
   "outputs": [],
   "source": [
    "from ICER_User_Dat.models import GroupUsersSLURM\n",
    "\n",
    "## THESE ARE STILL WORK IN PROGRESS ##"
   ]
  },
  {
   "cell_type": "markdown",
   "metadata": {},
   "source": [
    "## Predicting walltime"
   ]
  },
  {
   "cell_type": "code",
   "execution_count": null,
   "metadata": {},
   "outputs": [],
   "source": [
    "from ICER_User_Dat.models import PredWalltimeSLURM\n",
    "\n",
    "## THESE ARE STILL WORK IN PROGRESS ##"
   ]
  }
 ],
 "metadata": {
  "kernelspec": {
   "display_name": "Python 3",
   "language": "python",
   "name": "python3"
  },
  "language_info": {
   "codemirror_mode": {
    "name": "ipython",
    "version": 3
   },
   "file_extension": ".py",
   "mimetype": "text/x-python",
   "name": "python",
   "nbconvert_exporter": "python",
   "pygments_lexer": "ipython3",
   "version": "3.6.4"
  }
 },
 "nbformat": 4,
 "nbformat_minor": 2
}
